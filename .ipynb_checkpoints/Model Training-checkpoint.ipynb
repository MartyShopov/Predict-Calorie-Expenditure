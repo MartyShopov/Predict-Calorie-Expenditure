{
 "cells": [
  {
   "cell_type": "code",
   "execution_count": 21,
   "id": "03c9697e-985f-4aa3-9652-6938f2798003",
   "metadata": {
    "execution": {
     "iopub.execute_input": "2025-05-15T14:54:25.834041Z",
     "iopub.status.busy": "2025-05-15T14:54:25.833759Z",
     "iopub.status.idle": "2025-05-15T14:54:25.835817Z",
     "shell.execute_reply": "2025-05-15T14:54:25.835564Z",
     "shell.execute_reply.started": "2025-05-15T14:54:25.834027Z"
    }
   },
   "outputs": [],
   "source": [
    "import numpy as np\n",
    "import pandas as pd\n",
    "import matplotlib.pyplot as plt"
   ]
  },
  {
   "cell_type": "code",
   "execution_count": 30,
   "id": "a6305022-ffda-421d-81d7-09c0245bade4",
   "metadata": {
    "execution": {
     "iopub.execute_input": "2025-05-15T14:54:51.104732Z",
     "iopub.status.busy": "2025-05-15T14:54:51.104533Z",
     "iopub.status.idle": "2025-05-15T14:54:51.107502Z",
     "shell.execute_reply": "2025-05-15T14:54:51.107161Z",
     "shell.execute_reply.started": "2025-05-15T14:54:51.104715Z"
    }
   },
   "outputs": [],
   "source": [
    "from sklearn.pipeline import Pipeline\n",
    "from sklearn.preprocessing import MinMaxScaler, FunctionTransformer, PolynomialFeatures, OneHotEncoder\n",
    "from sklearn.compose import ColumnTransformer\n",
    "from sklearn.metrics import root_mean_squared_log_error\n",
    "from sklearn.base import BaseEstimator, TransformerMixin\n",
    "\n",
    "from xgboost import XGBRegressor\n",
    "import xgboost as xgb"
   ]
  },
  {
   "cell_type": "code",
   "execution_count": 23,
   "id": "70fe1f64-3998-40f8-b8ac-f66148def872",
   "metadata": {
    "execution": {
     "iopub.execute_input": "2025-05-15T14:54:26.656701Z",
     "iopub.status.busy": "2025-05-15T14:54:26.656233Z",
     "iopub.status.idle": "2025-05-15T14:54:26.895168Z",
     "shell.execute_reply": "2025-05-15T14:54:26.894872Z",
     "shell.execute_reply.started": "2025-05-15T14:54:26.656678Z"
    }
   },
   "outputs": [],
   "source": [
    "data = pd.read_csv(\"data/playground-series-s5e5/train.csv\", index_col = \"id\")\n",
    "data.columns = data.columns.str.lower()"
   ]
  },
  {
   "cell_type": "code",
   "execution_count": 24,
   "id": "1ead7269-97ae-4fd1-822d-2d4b52bdd5c6",
   "metadata": {
    "execution": {
     "iopub.execute_input": "2025-05-15T14:54:27.336483Z",
     "iopub.status.busy": "2025-05-15T14:54:27.336157Z",
     "iopub.status.idle": "2025-05-15T14:54:27.341907Z",
     "shell.execute_reply": "2025-05-15T14:54:27.341499Z",
     "shell.execute_reply.started": "2025-05-15T14:54:27.336470Z"
    }
   },
   "outputs": [],
   "source": [
    "data[\"bmi\"] = data.weight / ((data.height / 100) ** 2)"
   ]
  },
  {
   "cell_type": "code",
   "execution_count": 25,
   "id": "7adf3fb2-3887-43c3-b410-3d488912b240",
   "metadata": {
    "execution": {
     "iopub.execute_input": "2025-05-15T14:54:27.903542Z",
     "iopub.status.busy": "2025-05-15T14:54:27.903356Z",
     "iopub.status.idle": "2025-05-15T14:54:27.919613Z",
     "shell.execute_reply": "2025-05-15T14:54:27.919236Z",
     "shell.execute_reply.started": "2025-05-15T14:54:27.903526Z"
    }
   },
   "outputs": [],
   "source": [
    "data[\"age_group\"] = pd.cut(\n",
    "    data[\"age\"],\n",
    "    bins=[20, 30, 40, 50, 60, 80],\n",
    "    labels=[\"20-29\", \"30-39\", \"40-49\", \"50-59\", \"60-79\"],\n",
    "    right=False  # Optional: whether intervals are closed on the right\n",
    ")\n"
   ]
  },
  {
   "cell_type": "code",
   "execution_count": 26,
   "id": "0b7a517f-8b23-447d-8841-5d05c15e6050",
   "metadata": {
    "execution": {
     "iopub.execute_input": "2025-05-15T14:54:29.070158Z",
     "iopub.status.busy": "2025-05-15T14:54:29.069813Z",
     "iopub.status.idle": "2025-05-15T14:54:29.087862Z",
     "shell.execute_reply": "2025-05-15T14:54:29.087333Z",
     "shell.execute_reply.started": "2025-05-15T14:54:29.070141Z"
    }
   },
   "outputs": [],
   "source": [
    "X = data.drop(columns = [\"calories\"])\n",
    "y = data.calories"
   ]
  },
  {
   "cell_type": "code",
   "execution_count": 27,
   "id": "46beeb43-f8bd-4284-9ede-eb7b62fa7f14",
   "metadata": {
    "execution": {
     "iopub.execute_input": "2025-05-15T14:54:31.957736Z",
     "iopub.status.busy": "2025-05-15T14:54:31.957533Z",
     "iopub.status.idle": "2025-05-15T14:54:31.962370Z",
     "shell.execute_reply": "2025-05-15T14:54:31.961999Z",
     "shell.execute_reply.started": "2025-05-15T14:54:31.957720Z"
    }
   },
   "outputs": [
    {
     "data": {
      "text/plain": [
       "<Experiment: artifact_location='file:///home/mshopov/Jupyter%20Lab%20Notebooks/Kaggle%20Competitions/Predict%20Calorie%20Expenditure/mlruns/287292542223627452', creation_time=1747153771249, experiment_id='287292542223627452', last_update_time=1747153771249, lifecycle_stage='active', name='Burned Calories Prediction', tags={}>"
      ]
     },
     "execution_count": 27,
     "metadata": {},
     "output_type": "execute_result"
    }
   ],
   "source": [
    "import mlflow\n",
    "\n",
    "# Set experiment name (this will create it if it doesn't exist)\n",
    "mlflow.set_experiment(\"Burned Calories Prediction\")"
   ]
  },
  {
   "cell_type": "code",
   "execution_count": 28,
   "id": "006b2208-f718-470f-ba12-1e62b33e21df",
   "metadata": {
    "execution": {
     "iopub.execute_input": "2025-05-15T14:54:33.732508Z",
     "iopub.status.busy": "2025-05-15T14:54:33.732351Z",
     "iopub.status.idle": "2025-05-15T14:54:33.811516Z",
     "shell.execute_reply": "2025-05-15T14:54:33.811149Z",
     "shell.execute_reply.started": "2025-05-15T14:54:33.732497Z"
    }
   },
   "outputs": [],
   "source": [
    "from sklearn.model_selection import train_test_split\n",
    "\n",
    "X_train, X_test, y_train, y_test = train_test_split(X, y, test_size = 10_000, random_state = 17)"
   ]
  },
  {
   "cell_type": "code",
   "execution_count": 33,
   "id": "c1e82efc-694b-413a-a9e6-a5cc35471266",
   "metadata": {
    "execution": {
     "iopub.execute_input": "2025-05-15T14:56:27.137601Z",
     "iopub.status.busy": "2025-05-15T14:56:27.137364Z",
     "iopub.status.idle": "2025-05-15T14:56:27.140924Z",
     "shell.execute_reply": "2025-05-15T14:56:27.140643Z",
     "shell.execute_reply.started": "2025-05-15T14:56:27.137583Z"
    }
   },
   "outputs": [],
   "source": [
    "#categorical_features = [\"sex\"]\n",
    "#numeric_features = [\"age\", \"height\", \"weight\", \"duration\", \"heart_rate\", \"body_temp\"]\n",
    "\n",
    "categorical_features = [\"sex\", \"age_group\"]\n",
    "numeric_features = [\"age\", \"height\", \"weight\", \"duration\", \"heart_rate\", \"body_temp\", \"bmi\"]\n",
    "\n",
    "# Preprocessing\n",
    "preprocessor = ColumnTransformer([\n",
    "    (\"log\", FunctionTransformer(np.log1p), numeric_features),\n",
    "    (\"cat\", OneHotEncoder(drop=\"first\"), categorical_features)\n",
    "])\n",
    "\n",
    "poly_featurer = PolynomialFeatures(degree = 2)\n",
    "\n",
    "scaler = MinMaxScaler()\n",
    "\n",
    "xgb_model = XGBRegressor(\n",
    "    objective = \"reg:squaredlogerror\",\n",
    "    #n_estimators = 150,\n",
    "    #min_child_weight = 0.01,\n",
    "    #learning_rate = 0.1,\n",
    "    #reg_alpha = 0,\n",
    "    #max_depth = 11,\n",
    "    #reg_lambda = 0\n",
    ")    \n",
    "\n",
    "# Define pipeline\n",
    "model_pipeline = Pipeline(steps=[\n",
    "    (\"preprocessing\", preprocessor),\n",
    "    (\"poly_features\", poly_featurer),\n",
    "    (\"scaler\", scaler),\n",
    "    (\"xgb\", xgb_model)\n",
    "])"
   ]
  },
  {
   "cell_type": "code",
   "execution_count": 32,
   "id": "b9dcbe78-1c94-49bf-b47f-b753bf8c7a12",
   "metadata": {
    "execution": {
     "iopub.execute_input": "2025-05-15T14:54:57.273287Z",
     "iopub.status.busy": "2025-05-15T14:54:57.273111Z",
     "iopub.status.idle": "2025-05-15T14:55:19.382938Z",
     "shell.execute_reply": "2025-05-15T14:55:19.382630Z",
     "shell.execute_reply.started": "2025-05-15T14:54:57.273275Z"
    }
   },
   "outputs": [
    {
     "name": "stderr",
     "output_type": "stream",
     "text": [
      "\u001b[31m2025/05/15 17:55:19 WARNING mlflow.models.model: Model logged without a signature and input example. Please set `input_example` parameter when logging the model to auto infer the model signature.\u001b[0m\n"
     ]
    },
    {
     "name": "stdout",
     "output_type": "stream",
     "text": [
      "Train RMSLE: 0.05101862\n",
      "Test RMSLE: 0.06014101\n"
     ]
    }
   ],
   "source": [
    "# --- FOR SINGLE MODELS ---\n",
    "\n",
    "with mlflow.start_run():\n",
    "    # Fit the model\n",
    "    model_pipeline.fit(X_train, y_train)\n",
    "\n",
    "    # Predictions\n",
    "    y_train_pred = model_pipeline.predict(X_train)\n",
    "    y_test_pred = model_pipeline.predict(X_test)\n",
    "\n",
    "    # Custom RMSLE metric\n",
    "    #def root_mean_squared_log_error(y_true, y_pred):\n",
    "    #    return np.sqrt(np.mean(np.square(np.log1p(y_pred) - np.log1p(y_true))))\n",
    "\n",
    "    train_rmsle = root_mean_squared_log_error(y_train, y_train_pred)\n",
    "    test_rmsle = root_mean_squared_log_error(y_test, y_test_pred)\n",
    "\n",
    "    # Log parameters\n",
    "    xgb_params = xgb_model.get_params()\n",
    "    for param, value in xgb_params.items():\n",
    "        mlflow.log_param(param, value)\n",
    "    \n",
    "    mlflow.log_param(\"model_type\", \"XGBRegressor\")\n",
    "    mlflow.log_param(\"scaling\", \"MinMaxScaler\")\n",
    "    mlflow.log_param(\"log1p_transform\", \"numeric\")\n",
    "    mlflow.log_param(\"poly_feat\", \"degree_2\")\n",
    "\n",
    "    mlflow.log_param(\"new_columns\", \"age_group_and_bmi\")\n",
    "    \n",
    "    # Log metrics\n",
    "    mlflow.log_metric(\"train_rmsle\", train_rmsle)\n",
    "    mlflow.log_metric(\"test_rmsle\", test_rmsle)\n",
    "\n",
    "    # Log model\n",
    "    mlflow.sklearn.log_model(model_pipeline, \"model_pipeline\")\n",
    "\n",
    "    print(f\"Train RMSLE: {train_rmsle:.8f}\")\n",
    "    print(f\"Test RMSLE: {test_rmsle:.8f}\")"
   ]
  },
  {
   "cell_type": "code",
   "execution_count": 36,
   "id": "f54cf74b-5e6e-455a-9dcc-b3a9d01bc836",
   "metadata": {
    "execution": {
     "iopub.execute_input": "2025-05-15T15:20:56.677753Z",
     "iopub.status.busy": "2025-05-15T15:20:56.677410Z",
     "iopub.status.idle": "2025-05-15T15:30:27.572798Z",
     "shell.execute_reply": "2025-05-15T15:30:27.568827Z",
     "shell.execute_reply.started": "2025-05-15T15:20:56.677734Z"
    },
    "scrolled": true
   },
   "outputs": [
    {
     "name": "stdout",
     "output_type": "stream",
     "text": [
      "Fitting 3 folds for each of 250 candidates, totalling 750 fits\n"
     ]
    },
    {
     "name": "stderr",
     "output_type": "stream",
     "text": [
      "/home/mshopov/anaconda3/envs/deep-learning-env/lib/python3.12/site-packages/sklearn/model_selection/_validation.py:982: UserWarning: Scoring failed. The score on this train-test partition for these parameters will be set to nan. Details: \n",
      "Traceback (most recent call last):\n",
      "  File \"/home/mshopov/anaconda3/envs/deep-learning-env/lib/python3.12/site-packages/sklearn/model_selection/_validation.py\", line 971, in _score\n",
      "    scores = scorer(estimator, X_test, y_test, **score_params)\n",
      "             ^^^^^^^^^^^^^^^^^^^^^^^^^^^^^^^^^^^^^^^^^^^^^^^^^\n",
      "  File \"/home/mshopov/anaconda3/envs/deep-learning-env/lib/python3.12/site-packages/sklearn/metrics/_scorer.py\", line 279, in __call__\n",
      "    return self._score(partial(_cached_call, None), estimator, X, y_true, **_kwargs)\n",
      "           ^^^^^^^^^^^^^^^^^^^^^^^^^^^^^^^^^^^^^^^^^^^^^^^^^^^^^^^^^^^^^^^^^^^^^^^^^\n",
      "  File \"/home/mshopov/anaconda3/envs/deep-learning-env/lib/python3.12/site-packages/sklearn/metrics/_scorer.py\", line 376, in _score\n",
      "    return self._sign * self._score_func(y_true, y_pred, **scoring_kwargs)\n",
      "                        ^^^^^^^^^^^^^^^^^^^^^^^^^^^^^^^^^^^^^^^^^^^^^^^^^^\n",
      "  File \"/home/mshopov/anaconda3/envs/deep-learning-env/lib/python3.12/site-packages/sklearn/utils/_param_validation.py\", line 213, in wrapper\n",
      "    return func(*args, **kwargs)\n",
      "           ^^^^^^^^^^^^^^^^^^^^^\n",
      "  File \"/home/mshopov/anaconda3/envs/deep-learning-env/lib/python3.12/site-packages/sklearn/metrics/_regression.py\", line 768, in root_mean_squared_log_error\n",
      "    raise ValueError(\n",
      "ValueError: Root Mean Squared Logarithmic Error cannot be used when targets contain negative values.\n",
      "\n",
      "  warnings.warn(\n",
      "/home/mshopov/anaconda3/envs/deep-learning-env/lib/python3.12/site-packages/sklearn/model_selection/_validation.py:982: UserWarning: Scoring failed. The score on this train-test partition for these parameters will be set to nan. Details: \n",
      "Traceback (most recent call last):\n",
      "  File \"/home/mshopov/anaconda3/envs/deep-learning-env/lib/python3.12/site-packages/sklearn/model_selection/_validation.py\", line 971, in _score\n",
      "    scores = scorer(estimator, X_test, y_test, **score_params)\n",
      "             ^^^^^^^^^^^^^^^^^^^^^^^^^^^^^^^^^^^^^^^^^^^^^^^^^\n",
      "  File \"/home/mshopov/anaconda3/envs/deep-learning-env/lib/python3.12/site-packages/sklearn/metrics/_scorer.py\", line 279, in __call__\n",
      "    return self._score(partial(_cached_call, None), estimator, X, y_true, **_kwargs)\n",
      "           ^^^^^^^^^^^^^^^^^^^^^^^^^^^^^^^^^^^^^^^^^^^^^^^^^^^^^^^^^^^^^^^^^^^^^^^^^\n",
      "  File \"/home/mshopov/anaconda3/envs/deep-learning-env/lib/python3.12/site-packages/sklearn/metrics/_scorer.py\", line 376, in _score\n",
      "    return self._sign * self._score_func(y_true, y_pred, **scoring_kwargs)\n",
      "                        ^^^^^^^^^^^^^^^^^^^^^^^^^^^^^^^^^^^^^^^^^^^^^^^^^^\n",
      "  File \"/home/mshopov/anaconda3/envs/deep-learning-env/lib/python3.12/site-packages/sklearn/utils/_param_validation.py\", line 213, in wrapper\n",
      "    return func(*args, **kwargs)\n",
      "           ^^^^^^^^^^^^^^^^^^^^^\n",
      "  File \"/home/mshopov/anaconda3/envs/deep-learning-env/lib/python3.12/site-packages/sklearn/metrics/_regression.py\", line 768, in root_mean_squared_log_error\n",
      "    raise ValueError(\n",
      "ValueError: Root Mean Squared Logarithmic Error cannot be used when targets contain negative values.\n",
      "\n",
      "  warnings.warn(\n"
     ]
    },
    {
     "ename": "TerminatedWorkerError",
     "evalue": "A worker process managed by the executor was unexpectedly terminated. This could be caused by a segmentation fault while calling the function or by an excessive memory usage causing the Operating System to kill the worker.\n\nThe exit codes of the workers are {SIGKILL(-9)}",
     "output_type": "error",
     "traceback": [
      "\u001b[0;31m---------------------------------------------------------------------------\u001b[0m",
      "\u001b[0;31mTerminatedWorkerError\u001b[0m                     Traceback (most recent call last)",
      "Cell \u001b[0;32mIn[36], line 49\u001b[0m\n\u001b[1;32m     47\u001b[0m \u001b[38;5;66;03m# Fit the model with RandomizedSearchCV\u001b[39;00m\n\u001b[1;32m     48\u001b[0m \u001b[38;5;28;01mwith\u001b[39;00m mlflow\u001b[38;5;241m.\u001b[39mstart_run():\n\u001b[0;32m---> 49\u001b[0m     random_search\u001b[38;5;241m.\u001b[39mfit(X_train, y_train)\n\u001b[1;32m     51\u001b[0m     \u001b[38;5;66;03m# Get the best model\u001b[39;00m\n\u001b[1;32m     52\u001b[0m     best_model \u001b[38;5;241m=\u001b[39m random_search\u001b[38;5;241m.\u001b[39mbest_estimator_\n",
      "File \u001b[0;32m~/anaconda3/envs/deep-learning-env/lib/python3.12/site-packages/sklearn/base.py:1473\u001b[0m, in \u001b[0;36m_fit_context.<locals>.decorator.<locals>.wrapper\u001b[0;34m(estimator, *args, **kwargs)\u001b[0m\n\u001b[1;32m   1466\u001b[0m     estimator\u001b[38;5;241m.\u001b[39m_validate_params()\n\u001b[1;32m   1468\u001b[0m \u001b[38;5;28;01mwith\u001b[39;00m config_context(\n\u001b[1;32m   1469\u001b[0m     skip_parameter_validation\u001b[38;5;241m=\u001b[39m(\n\u001b[1;32m   1470\u001b[0m         prefer_skip_nested_validation \u001b[38;5;129;01mor\u001b[39;00m global_skip_validation\n\u001b[1;32m   1471\u001b[0m     )\n\u001b[1;32m   1472\u001b[0m ):\n\u001b[0;32m-> 1473\u001b[0m     \u001b[38;5;28;01mreturn\u001b[39;00m fit_method(estimator, \u001b[38;5;241m*\u001b[39margs, \u001b[38;5;241m*\u001b[39m\u001b[38;5;241m*\u001b[39mkwargs)\n",
      "File \u001b[0;32m~/anaconda3/envs/deep-learning-env/lib/python3.12/site-packages/sklearn/model_selection/_search.py:1018\u001b[0m, in \u001b[0;36mBaseSearchCV.fit\u001b[0;34m(self, X, y, **params)\u001b[0m\n\u001b[1;32m   1012\u001b[0m     results \u001b[38;5;241m=\u001b[39m \u001b[38;5;28mself\u001b[39m\u001b[38;5;241m.\u001b[39m_format_results(\n\u001b[1;32m   1013\u001b[0m         all_candidate_params, n_splits, all_out, all_more_results\n\u001b[1;32m   1014\u001b[0m     )\n\u001b[1;32m   1016\u001b[0m     \u001b[38;5;28;01mreturn\u001b[39;00m results\n\u001b[0;32m-> 1018\u001b[0m \u001b[38;5;28mself\u001b[39m\u001b[38;5;241m.\u001b[39m_run_search(evaluate_candidates)\n\u001b[1;32m   1020\u001b[0m \u001b[38;5;66;03m# multimetric is determined here because in the case of a callable\u001b[39;00m\n\u001b[1;32m   1021\u001b[0m \u001b[38;5;66;03m# self.scoring the return type is only known after calling\u001b[39;00m\n\u001b[1;32m   1022\u001b[0m first_test_score \u001b[38;5;241m=\u001b[39m all_out[\u001b[38;5;241m0\u001b[39m][\u001b[38;5;124m\"\u001b[39m\u001b[38;5;124mtest_scores\u001b[39m\u001b[38;5;124m\"\u001b[39m]\n",
      "File \u001b[0;32m~/anaconda3/envs/deep-learning-env/lib/python3.12/site-packages/sklearn/model_selection/_search.py:1959\u001b[0m, in \u001b[0;36mRandomizedSearchCV._run_search\u001b[0;34m(self, evaluate_candidates)\u001b[0m\n\u001b[1;32m   1957\u001b[0m \u001b[38;5;28;01mdef\u001b[39;00m \u001b[38;5;21m_run_search\u001b[39m(\u001b[38;5;28mself\u001b[39m, evaluate_candidates):\n\u001b[1;32m   1958\u001b[0m \u001b[38;5;250m    \u001b[39m\u001b[38;5;124;03m\"\"\"Search n_iter candidates from param_distributions\"\"\"\u001b[39;00m\n\u001b[0;32m-> 1959\u001b[0m     evaluate_candidates(\n\u001b[1;32m   1960\u001b[0m         ParameterSampler(\n\u001b[1;32m   1961\u001b[0m             \u001b[38;5;28mself\u001b[39m\u001b[38;5;241m.\u001b[39mparam_distributions, \u001b[38;5;28mself\u001b[39m\u001b[38;5;241m.\u001b[39mn_iter, random_state\u001b[38;5;241m=\u001b[39m\u001b[38;5;28mself\u001b[39m\u001b[38;5;241m.\u001b[39mrandom_state\n\u001b[1;32m   1962\u001b[0m         )\n\u001b[1;32m   1963\u001b[0m     )\n",
      "File \u001b[0;32m~/anaconda3/envs/deep-learning-env/lib/python3.12/site-packages/sklearn/model_selection/_search.py:964\u001b[0m, in \u001b[0;36mBaseSearchCV.fit.<locals>.evaluate_candidates\u001b[0;34m(candidate_params, cv, more_results)\u001b[0m\n\u001b[1;32m    956\u001b[0m \u001b[38;5;28;01mif\u001b[39;00m \u001b[38;5;28mself\u001b[39m\u001b[38;5;241m.\u001b[39mverbose \u001b[38;5;241m>\u001b[39m \u001b[38;5;241m0\u001b[39m:\n\u001b[1;32m    957\u001b[0m     \u001b[38;5;28mprint\u001b[39m(\n\u001b[1;32m    958\u001b[0m         \u001b[38;5;124m\"\u001b[39m\u001b[38;5;124mFitting \u001b[39m\u001b[38;5;132;01m{0}\u001b[39;00m\u001b[38;5;124m folds for each of \u001b[39m\u001b[38;5;132;01m{1}\u001b[39;00m\u001b[38;5;124m candidates,\u001b[39m\u001b[38;5;124m\"\u001b[39m\n\u001b[1;32m    959\u001b[0m         \u001b[38;5;124m\"\u001b[39m\u001b[38;5;124m totalling \u001b[39m\u001b[38;5;132;01m{2}\u001b[39;00m\u001b[38;5;124m fits\u001b[39m\u001b[38;5;124m\"\u001b[39m\u001b[38;5;241m.\u001b[39mformat(\n\u001b[1;32m    960\u001b[0m             n_splits, n_candidates, n_candidates \u001b[38;5;241m*\u001b[39m n_splits\n\u001b[1;32m    961\u001b[0m         )\n\u001b[1;32m    962\u001b[0m     )\n\u001b[0;32m--> 964\u001b[0m out \u001b[38;5;241m=\u001b[39m parallel(\n\u001b[1;32m    965\u001b[0m     delayed(_fit_and_score)(\n\u001b[1;32m    966\u001b[0m         clone(base_estimator),\n\u001b[1;32m    967\u001b[0m         X,\n\u001b[1;32m    968\u001b[0m         y,\n\u001b[1;32m    969\u001b[0m         train\u001b[38;5;241m=\u001b[39mtrain,\n\u001b[1;32m    970\u001b[0m         test\u001b[38;5;241m=\u001b[39mtest,\n\u001b[1;32m    971\u001b[0m         parameters\u001b[38;5;241m=\u001b[39mparameters,\n\u001b[1;32m    972\u001b[0m         split_progress\u001b[38;5;241m=\u001b[39m(split_idx, n_splits),\n\u001b[1;32m    973\u001b[0m         candidate_progress\u001b[38;5;241m=\u001b[39m(cand_idx, n_candidates),\n\u001b[1;32m    974\u001b[0m         \u001b[38;5;241m*\u001b[39m\u001b[38;5;241m*\u001b[39mfit_and_score_kwargs,\n\u001b[1;32m    975\u001b[0m     )\n\u001b[1;32m    976\u001b[0m     \u001b[38;5;28;01mfor\u001b[39;00m (cand_idx, parameters), (split_idx, (train, test)) \u001b[38;5;129;01min\u001b[39;00m product(\n\u001b[1;32m    977\u001b[0m         \u001b[38;5;28menumerate\u001b[39m(candidate_params),\n\u001b[1;32m    978\u001b[0m         \u001b[38;5;28menumerate\u001b[39m(cv\u001b[38;5;241m.\u001b[39msplit(X, y, \u001b[38;5;241m*\u001b[39m\u001b[38;5;241m*\u001b[39mrouted_params\u001b[38;5;241m.\u001b[39msplitter\u001b[38;5;241m.\u001b[39msplit)),\n\u001b[1;32m    979\u001b[0m     )\n\u001b[1;32m    980\u001b[0m )\n\u001b[1;32m    982\u001b[0m \u001b[38;5;28;01mif\u001b[39;00m \u001b[38;5;28mlen\u001b[39m(out) \u001b[38;5;241m<\u001b[39m \u001b[38;5;241m1\u001b[39m:\n\u001b[1;32m    983\u001b[0m     \u001b[38;5;28;01mraise\u001b[39;00m \u001b[38;5;167;01mValueError\u001b[39;00m(\n\u001b[1;32m    984\u001b[0m         \u001b[38;5;124m\"\u001b[39m\u001b[38;5;124mNo fits were performed. \u001b[39m\u001b[38;5;124m\"\u001b[39m\n\u001b[1;32m    985\u001b[0m         \u001b[38;5;124m\"\u001b[39m\u001b[38;5;124mWas the CV iterator empty? \u001b[39m\u001b[38;5;124m\"\u001b[39m\n\u001b[1;32m    986\u001b[0m         \u001b[38;5;124m\"\u001b[39m\u001b[38;5;124mWere there no candidates?\u001b[39m\u001b[38;5;124m\"\u001b[39m\n\u001b[1;32m    987\u001b[0m     )\n",
      "File \u001b[0;32m~/anaconda3/envs/deep-learning-env/lib/python3.12/site-packages/sklearn/utils/parallel.py:74\u001b[0m, in \u001b[0;36mParallel.__call__\u001b[0;34m(self, iterable)\u001b[0m\n\u001b[1;32m     69\u001b[0m config \u001b[38;5;241m=\u001b[39m get_config()\n\u001b[1;32m     70\u001b[0m iterable_with_config \u001b[38;5;241m=\u001b[39m (\n\u001b[1;32m     71\u001b[0m     (_with_config(delayed_func, config), args, kwargs)\n\u001b[1;32m     72\u001b[0m     \u001b[38;5;28;01mfor\u001b[39;00m delayed_func, args, kwargs \u001b[38;5;129;01min\u001b[39;00m iterable\n\u001b[1;32m     73\u001b[0m )\n\u001b[0;32m---> 74\u001b[0m \u001b[38;5;28;01mreturn\u001b[39;00m \u001b[38;5;28msuper\u001b[39m()\u001b[38;5;241m.\u001b[39m\u001b[38;5;21m__call__\u001b[39m(iterable_with_config)\n",
      "File \u001b[0;32m~/anaconda3/envs/deep-learning-env/lib/python3.12/site-packages/joblib/parallel.py:2007\u001b[0m, in \u001b[0;36mParallel.__call__\u001b[0;34m(self, iterable)\u001b[0m\n\u001b[1;32m   2001\u001b[0m \u001b[38;5;66;03m# The first item from the output is blank, but it makes the interpreter\u001b[39;00m\n\u001b[1;32m   2002\u001b[0m \u001b[38;5;66;03m# progress until it enters the Try/Except block of the generator and\u001b[39;00m\n\u001b[1;32m   2003\u001b[0m \u001b[38;5;66;03m# reaches the first `yield` statement. This starts the asynchronous\u001b[39;00m\n\u001b[1;32m   2004\u001b[0m \u001b[38;5;66;03m# dispatch of the tasks to the workers.\u001b[39;00m\n\u001b[1;32m   2005\u001b[0m \u001b[38;5;28mnext\u001b[39m(output)\n\u001b[0;32m-> 2007\u001b[0m \u001b[38;5;28;01mreturn\u001b[39;00m output \u001b[38;5;28;01mif\u001b[39;00m \u001b[38;5;28mself\u001b[39m\u001b[38;5;241m.\u001b[39mreturn_generator \u001b[38;5;28;01melse\u001b[39;00m \u001b[38;5;28mlist\u001b[39m(output)\n",
      "File \u001b[0;32m~/anaconda3/envs/deep-learning-env/lib/python3.12/site-packages/joblib/parallel.py:1650\u001b[0m, in \u001b[0;36mParallel._get_outputs\u001b[0;34m(self, iterator, pre_dispatch)\u001b[0m\n\u001b[1;32m   1647\u001b[0m     \u001b[38;5;28;01myield\u001b[39;00m\n\u001b[1;32m   1649\u001b[0m     \u001b[38;5;28;01mwith\u001b[39;00m \u001b[38;5;28mself\u001b[39m\u001b[38;5;241m.\u001b[39m_backend\u001b[38;5;241m.\u001b[39mretrieval_context():\n\u001b[0;32m-> 1650\u001b[0m         \u001b[38;5;28;01myield from\u001b[39;00m \u001b[38;5;28mself\u001b[39m\u001b[38;5;241m.\u001b[39m_retrieve()\n\u001b[1;32m   1652\u001b[0m \u001b[38;5;28;01mexcept\u001b[39;00m \u001b[38;5;167;01mGeneratorExit\u001b[39;00m:\n\u001b[1;32m   1653\u001b[0m     \u001b[38;5;66;03m# The generator has been garbage collected before being fully\u001b[39;00m\n\u001b[1;32m   1654\u001b[0m     \u001b[38;5;66;03m# consumed. This aborts the remaining tasks if possible and warn\u001b[39;00m\n\u001b[1;32m   1655\u001b[0m     \u001b[38;5;66;03m# the user if necessary.\u001b[39;00m\n\u001b[1;32m   1656\u001b[0m     \u001b[38;5;28mself\u001b[39m\u001b[38;5;241m.\u001b[39m_exception \u001b[38;5;241m=\u001b[39m \u001b[38;5;28;01mTrue\u001b[39;00m\n",
      "File \u001b[0;32m~/anaconda3/envs/deep-learning-env/lib/python3.12/site-packages/joblib/parallel.py:1754\u001b[0m, in \u001b[0;36mParallel._retrieve\u001b[0;34m(self)\u001b[0m\n\u001b[1;32m   1747\u001b[0m \u001b[38;5;28;01mwhile\u001b[39;00m \u001b[38;5;28mself\u001b[39m\u001b[38;5;241m.\u001b[39m_wait_retrieval():\n\u001b[1;32m   1748\u001b[0m \n\u001b[1;32m   1749\u001b[0m     \u001b[38;5;66;03m# If the callback thread of a worker has signaled that its task\u001b[39;00m\n\u001b[1;32m   1750\u001b[0m     \u001b[38;5;66;03m# triggered an exception, or if the retrieval loop has raised an\u001b[39;00m\n\u001b[1;32m   1751\u001b[0m     \u001b[38;5;66;03m# exception (e.g. `GeneratorExit`), exit the loop and surface the\u001b[39;00m\n\u001b[1;32m   1752\u001b[0m     \u001b[38;5;66;03m# worker traceback.\u001b[39;00m\n\u001b[1;32m   1753\u001b[0m     \u001b[38;5;28;01mif\u001b[39;00m \u001b[38;5;28mself\u001b[39m\u001b[38;5;241m.\u001b[39m_aborting:\n\u001b[0;32m-> 1754\u001b[0m         \u001b[38;5;28mself\u001b[39m\u001b[38;5;241m.\u001b[39m_raise_error_fast()\n\u001b[1;32m   1755\u001b[0m         \u001b[38;5;28;01mbreak\u001b[39;00m\n\u001b[1;32m   1757\u001b[0m     \u001b[38;5;66;03m# If the next job is not ready for retrieval yet, we just wait for\u001b[39;00m\n\u001b[1;32m   1758\u001b[0m     \u001b[38;5;66;03m# async callbacks to progress.\u001b[39;00m\n",
      "File \u001b[0;32m~/anaconda3/envs/deep-learning-env/lib/python3.12/site-packages/joblib/parallel.py:1789\u001b[0m, in \u001b[0;36mParallel._raise_error_fast\u001b[0;34m(self)\u001b[0m\n\u001b[1;32m   1785\u001b[0m \u001b[38;5;66;03m# If this error job exists, immediately raise the error by\u001b[39;00m\n\u001b[1;32m   1786\u001b[0m \u001b[38;5;66;03m# calling get_result. This job might not exists if abort has been\u001b[39;00m\n\u001b[1;32m   1787\u001b[0m \u001b[38;5;66;03m# called directly or if the generator is gc'ed.\u001b[39;00m\n\u001b[1;32m   1788\u001b[0m \u001b[38;5;28;01mif\u001b[39;00m error_job \u001b[38;5;129;01mis\u001b[39;00m \u001b[38;5;129;01mnot\u001b[39;00m \u001b[38;5;28;01mNone\u001b[39;00m:\n\u001b[0;32m-> 1789\u001b[0m     error_job\u001b[38;5;241m.\u001b[39mget_result(\u001b[38;5;28mself\u001b[39m\u001b[38;5;241m.\u001b[39mtimeout)\n",
      "File \u001b[0;32m~/anaconda3/envs/deep-learning-env/lib/python3.12/site-packages/joblib/parallel.py:745\u001b[0m, in \u001b[0;36mBatchCompletionCallBack.get_result\u001b[0;34m(self, timeout)\u001b[0m\n\u001b[1;32m    739\u001b[0m backend \u001b[38;5;241m=\u001b[39m \u001b[38;5;28mself\u001b[39m\u001b[38;5;241m.\u001b[39mparallel\u001b[38;5;241m.\u001b[39m_backend\n\u001b[1;32m    741\u001b[0m \u001b[38;5;28;01mif\u001b[39;00m backend\u001b[38;5;241m.\u001b[39msupports_retrieve_callback:\n\u001b[1;32m    742\u001b[0m     \u001b[38;5;66;03m# We assume that the result has already been retrieved by the\u001b[39;00m\n\u001b[1;32m    743\u001b[0m     \u001b[38;5;66;03m# callback thread, and is stored internally. It's just waiting to\u001b[39;00m\n\u001b[1;32m    744\u001b[0m     \u001b[38;5;66;03m# be returned.\u001b[39;00m\n\u001b[0;32m--> 745\u001b[0m     \u001b[38;5;28;01mreturn\u001b[39;00m \u001b[38;5;28mself\u001b[39m\u001b[38;5;241m.\u001b[39m_return_or_raise()\n\u001b[1;32m    747\u001b[0m \u001b[38;5;66;03m# For other backends, the main thread needs to run the retrieval step.\u001b[39;00m\n\u001b[1;32m    748\u001b[0m \u001b[38;5;28;01mtry\u001b[39;00m:\n",
      "File \u001b[0;32m~/anaconda3/envs/deep-learning-env/lib/python3.12/site-packages/joblib/parallel.py:763\u001b[0m, in \u001b[0;36mBatchCompletionCallBack._return_or_raise\u001b[0;34m(self)\u001b[0m\n\u001b[1;32m    761\u001b[0m \u001b[38;5;28;01mtry\u001b[39;00m:\n\u001b[1;32m    762\u001b[0m     \u001b[38;5;28;01mif\u001b[39;00m \u001b[38;5;28mself\u001b[39m\u001b[38;5;241m.\u001b[39mstatus \u001b[38;5;241m==\u001b[39m TASK_ERROR:\n\u001b[0;32m--> 763\u001b[0m         \u001b[38;5;28;01mraise\u001b[39;00m \u001b[38;5;28mself\u001b[39m\u001b[38;5;241m.\u001b[39m_result\n\u001b[1;32m    764\u001b[0m     \u001b[38;5;28;01mreturn\u001b[39;00m \u001b[38;5;28mself\u001b[39m\u001b[38;5;241m.\u001b[39m_result\n\u001b[1;32m    765\u001b[0m \u001b[38;5;28;01mfinally\u001b[39;00m:\n",
      "\u001b[0;31mTerminatedWorkerError\u001b[0m: A worker process managed by the executor was unexpectedly terminated. This could be caused by a segmentation fault while calling the function or by an excessive memory usage causing the Operating System to kill the worker.\n\nThe exit codes of the workers are {SIGKILL(-9)}"
     ]
    }
   ],
   "source": [
    "# --- FOR RANDOMIZED SEARCH ---\n",
    "\n",
    "from sklearn.model_selection import RandomizedSearchCV\n",
    "from sklearn.metrics import make_scorer\n",
    "\n",
    "# Create the custom scorer\n",
    "rmsle_scorer = make_scorer(root_mean_squared_log_error, greater_is_better=False)\n",
    "\n",
    "\"\"\"\n",
    "# Define the parameter grid for RandomizedSearchCV\n",
    "param_dist = {\n",
    "    'xgb__max_depth': [9, 10, 11, 12, 13],  # Try various tree depths\n",
    "    'xgb__learning_rate': [0.09, 0.095, 0.1, 0.105, 0.11],  # Various learning rates\n",
    "    'xgb__n_estimators': [140, 145, 150, 155, 160],  # Number of boosting rounds\n",
    "        # NEW: controls overfitting and minimum data to split\n",
    "    'xgb__min_child_weight': [0.009, 0.0095, 0.010, 0.0105, 0.011],    \n",
    "    # NEW: reduce regularization to allow overfitting\n",
    "    'xgb__reg_alpha': [0, 0.01, 0.1],\n",
    "    'xgb__reg_lambda': [0, 0.01, 0.1],    \n",
    "}\n",
    "\n",
    "\"\"\"\n",
    "\n",
    "# RSCV after feature engineering\n",
    "param_dist = {\n",
    "    \"xgb__max_depth\": [4, 6, 8, 10, 12, 14, 20],  # Add lower depths to avoid overfitting if new features help\n",
    "    \"xgb__learning_rate\": [0.01, 0.05, 0.1, 0.2, 0.3, 0.5],  # Allow exploration of slower/faster learning\n",
    "    \"xgb__n_estimators\": [100, 150, 200, 250, 300, 350],  # Broader range for boosting rounds\n",
    "    \"xgb__min_child_weight\": [0.01, 0.1, 1, 3, 5, 7],  # Encourage robustness with higher values\n",
    "    \"xgb__reg_alpha\": [0, 0.01, 0.05, 0.1, 1, 10],  # Add stronger regularization options\n",
    "    \"xgb__reg_lambda\": [0, 0.01, 0.1, 1, 10, 15],  # Same here\n",
    "}\n",
    "\n",
    "\n",
    "# Create RandomizedSearchCV with cross-validation\n",
    "random_search = RandomizedSearchCV(\n",
    "    model_pipeline,\n",
    "    param_distributions=param_dist,\n",
    "    n_iter=250,  # Number of parameter combinations to try\n",
    "    scoring=rmsle_scorer,  # Use RMSE to evaluate performance\n",
    "    cv=3,  # 3-fold cross-validation\n",
    "    verbose=2,  # Display progress\n",
    "    n_jobs=10,  # Use all available CPUs for parallel processing\n",
    "    random_state=17  # Set random state for reproducibility\n",
    ")\n",
    "\n",
    "# Fit the model with RandomizedSearchCV\n",
    "with mlflow.start_run():\n",
    "    random_search.fit(X_train, y_train)\n",
    "    \n",
    "    # Get the best model\n",
    "    best_model = random_search.best_estimator_\n",
    "\n",
    "    # Predictions\n",
    "    y_train_pred = best_model.predict(X_train)\n",
    "    y_test_pred = best_model.predict(X_test)\n",
    "\n",
    "    # Custom RMSLE metric\n",
    "    train_rmsle = root_mean_squared_log_error(y_train, y_train_pred)\n",
    "    test_rmsle = root_mean_squared_log_error(y_test, y_test_pred)\n",
    "\n",
    "    # Log parameters\n",
    "    best_params = random_search.best_params_\n",
    "    for param, value in best_params.items():\n",
    "        mlflow.log_param(param, value)\n",
    "    \n",
    "    mlflow.log_param(\"model_type\", \"XGBRegressor\")\n",
    "    mlflow.log_param(\"scaling\", \"MinMaxScaler\")\n",
    "    mlflow.log_param(\"log_transform\", \"numeric\")\n",
    "    mlflow.log_param(\"poly_feat\", \"degree_2\")\n",
    "\n",
    "    mlflow.log_param(\"cv\", \"3\")\n",
    "\n",
    "    mlflow.log_param(\"new_columns\", \"age_group_and_bmi\")\n",
    "    # Log metrics\n",
    "    mlflow.log_metric(\"train_rmsle\", train_rmsle)\n",
    "    mlflow.log_metric(\"test_rmsle\", test_rmsle)\n",
    "\n",
    "    # Log model\n",
    "    mlflow.sklearn.log_model(best_model, \"model_pipeline\")\n",
    "\n",
    "    print(f\"Best parameters: {best_params}\")\n",
    "    print(f\"Train RMSLE: {train_rmsle:.6f}\")\n",
    "    print(f\"Test RMSLE: {test_rmsle:.6f}\")"
   ]
  },
  {
   "cell_type": "markdown",
   "id": "711a0dc4-c332-41c7-a3e0-4c2f1b86f8c0",
   "metadata": {},
   "source": [
    "---\n",
    "\n",
    "## Submissions"
   ]
  },
  {
   "cell_type": "code",
   "execution_count": 62,
   "id": "d748d2c8-ad82-4609-ad70-007be5d8fb63",
   "metadata": {
    "execution": {
     "iopub.execute_input": "2025-05-14T12:29:37.310711Z",
     "iopub.status.busy": "2025-05-14T12:29:37.310310Z",
     "iopub.status.idle": "2025-05-14T12:29:38.416222Z",
     "shell.execute_reply": "2025-05-14T12:29:38.415639Z",
     "shell.execute_reply.started": "2025-05-14T12:29:37.310698Z"
    }
   },
   "outputs": [
    {
     "data": {
      "text/plain": [
       "0.05138745007474449"
      ]
     },
     "execution_count": 62,
     "metadata": {},
     "output_type": "execute_result"
    }
   ],
   "source": [
    "# --- FOR SINGLE MODELS ---\n",
    "\n",
    "root_mean_squared_log_error(y_train, model_pipeline.predict(X_train))"
   ]
  },
  {
   "cell_type": "code",
   "execution_count": 63,
   "id": "46797f56-6226-4a78-8354-022ecc3ce4cd",
   "metadata": {
    "execution": {
     "iopub.execute_input": "2025-05-14T12:29:38.517422Z",
     "iopub.status.busy": "2025-05-14T12:29:38.516004Z",
     "iopub.status.idle": "2025-05-14T12:29:38.580421Z",
     "shell.execute_reply": "2025-05-14T12:29:38.579782Z",
     "shell.execute_reply.started": "2025-05-14T12:29:38.517406Z"
    }
   },
   "outputs": [
    {
     "data": {
      "text/plain": [
       "0.05981686736686766"
      ]
     },
     "execution_count": 63,
     "metadata": {},
     "output_type": "execute_result"
    }
   ],
   "source": [
    "root_mean_squared_log_error(y_test, model_pipeline.predict(X_test))"
   ]
  },
  {
   "cell_type": "code",
   "execution_count": 64,
   "id": "08032af9-67c8-4eef-8035-0114afb8b2ed",
   "metadata": {
    "execution": {
     "iopub.execute_input": "2025-05-14T12:29:39.005656Z",
     "iopub.status.busy": "2025-05-14T12:29:39.005188Z",
     "iopub.status.idle": "2025-05-14T12:29:39.039844Z",
     "shell.execute_reply": "2025-05-14T12:29:39.039022Z",
     "shell.execute_reply.started": "2025-05-14T12:29:39.005634Z"
    }
   },
   "outputs": [],
   "source": [
    "test_error = root_mean_squared_log_error(y_test, model_pipeline.predict(X_test))"
   ]
  },
  {
   "cell_type": "code",
   "execution_count": 23,
   "id": "6aa3bc86-5699-4fe7-b207-41f698a875e0",
   "metadata": {
    "execution": {
     "iopub.execute_input": "2025-05-14T08:49:31.255936Z",
     "iopub.status.busy": "2025-05-14T08:49:31.255514Z",
     "iopub.status.idle": "2025-05-14T08:49:31.956780Z",
     "shell.execute_reply": "2025-05-14T08:49:31.956455Z",
     "shell.execute_reply.started": "2025-05-14T08:49:31.255921Z"
    }
   },
   "outputs": [
    {
     "data": {
      "text/plain": [
       "0.0531474164475391"
      ]
     },
     "execution_count": 23,
     "metadata": {},
     "output_type": "execute_result"
    }
   ],
   "source": [
    "# --- FOR RANDOMIZED SEARCH ---\n",
    "\n",
    "root_mean_squared_log_error(y_train, best_model.predict(X_train))"
   ]
  },
  {
   "cell_type": "code",
   "execution_count": 21,
   "id": "8e488c71-89c3-425f-8382-9a9c991ddfe9",
   "metadata": {
    "execution": {
     "iopub.execute_input": "2025-05-14T08:49:02.265602Z",
     "iopub.status.busy": "2025-05-14T08:49:02.265437Z",
     "iopub.status.idle": "2025-05-14T08:49:02.293082Z",
     "shell.execute_reply": "2025-05-14T08:49:02.292318Z",
     "shell.execute_reply.started": "2025-05-14T08:49:02.265591Z"
    }
   },
   "outputs": [
    {
     "data": {
      "text/plain": [
       "0.06005181835134728"
      ]
     },
     "execution_count": 21,
     "metadata": {},
     "output_type": "execute_result"
    }
   ],
   "source": [
    "root_mean_squared_log_error(y_test, best_model.predict(X_test))"
   ]
  },
  {
   "cell_type": "code",
   "execution_count": null,
   "id": "19bfea17-dc6e-4890-ad50-dcc0cf349565",
   "metadata": {},
   "outputs": [],
   "source": [
    "test_error = root_mean_squared_log_error(y_test, model_pipeline.predict(X_test))"
   ]
  },
  {
   "cell_type": "markdown",
   "id": "1669d001-4360-477e-9349-9844e12d1216",
   "metadata": {},
   "source": [
    "---"
   ]
  },
  {
   "cell_type": "code",
   "execution_count": 24,
   "id": "fa776cc9-ff51-4c24-a075-755e97af25cf",
   "metadata": {
    "execution": {
     "iopub.execute_input": "2025-05-14T08:52:33.667622Z",
     "iopub.status.busy": "2025-05-14T08:52:33.667267Z",
     "iopub.status.idle": "2025-05-14T08:52:33.736363Z",
     "shell.execute_reply": "2025-05-14T08:52:33.736007Z",
     "shell.execute_reply.started": "2025-05-14T08:52:33.667606Z"
    }
   },
   "outputs": [],
   "source": [
    "eval_data = pd.read_csv(\"data/playground-series-s5e5/test.csv\", index_col = \"id\")"
   ]
  },
  {
   "cell_type": "code",
   "execution_count": 27,
   "id": "d609ab69-6ea9-4bf3-a1e9-caaddc02a1a6",
   "metadata": {
    "execution": {
     "iopub.execute_input": "2025-05-14T08:53:45.405741Z",
     "iopub.status.busy": "2025-05-14T08:53:45.405477Z",
     "iopub.status.idle": "2025-05-14T08:53:45.408194Z",
     "shell.execute_reply": "2025-05-14T08:53:45.407870Z",
     "shell.execute_reply.started": "2025-05-14T08:53:45.405726Z"
    }
   },
   "outputs": [],
   "source": [
    "eval_data.columns = eval_data.columns.str.lower()"
   ]
  },
  {
   "cell_type": "code",
   "execution_count": 65,
   "id": "d134081c-f618-4d3d-b6c1-e074a7cc0c3c",
   "metadata": {
    "execution": {
     "iopub.execute_input": "2025-05-14T12:29:46.360265Z",
     "iopub.status.busy": "2025-05-14T12:29:46.359990Z",
     "iopub.status.idle": "2025-05-14T12:29:46.705347Z",
     "shell.execute_reply": "2025-05-14T12:29:46.704951Z",
     "shell.execute_reply.started": "2025-05-14T12:29:46.360253Z"
    }
   },
   "outputs": [
    {
     "data": {
      "text/html": [
       "<div>\n",
       "<style scoped>\n",
       "    .dataframe tbody tr th:only-of-type {\n",
       "        vertical-align: middle;\n",
       "    }\n",
       "\n",
       "    .dataframe tbody tr th {\n",
       "        vertical-align: top;\n",
       "    }\n",
       "\n",
       "    .dataframe thead th {\n",
       "        text-align: right;\n",
       "    }\n",
       "</style>\n",
       "<table border=\"1\" class=\"dataframe\">\n",
       "  <thead>\n",
       "    <tr style=\"text-align: right;\">\n",
       "      <th></th>\n",
       "      <th>id</th>\n",
       "      <th>Calories</th>\n",
       "    </tr>\n",
       "  </thead>\n",
       "  <tbody>\n",
       "    <tr>\n",
       "      <th>0</th>\n",
       "      <td>750000</td>\n",
       "      <td>28.113632</td>\n",
       "    </tr>\n",
       "    <tr>\n",
       "      <th>1</th>\n",
       "      <td>750001</td>\n",
       "      <td>107.521530</td>\n",
       "    </tr>\n",
       "    <tr>\n",
       "      <th>2</th>\n",
       "      <td>750002</td>\n",
       "      <td>87.097160</td>\n",
       "    </tr>\n",
       "    <tr>\n",
       "      <th>3</th>\n",
       "      <td>750003</td>\n",
       "      <td>126.426750</td>\n",
       "    </tr>\n",
       "    <tr>\n",
       "      <th>4</th>\n",
       "      <td>750004</td>\n",
       "      <td>75.703194</td>\n",
       "    </tr>\n",
       "    <tr>\n",
       "      <th>...</th>\n",
       "      <td>...</td>\n",
       "      <td>...</td>\n",
       "    </tr>\n",
       "    <tr>\n",
       "      <th>249995</th>\n",
       "      <td>999995</td>\n",
       "      <td>25.969122</td>\n",
       "    </tr>\n",
       "    <tr>\n",
       "      <th>249996</th>\n",
       "      <td>999996</td>\n",
       "      <td>9.564373</td>\n",
       "    </tr>\n",
       "    <tr>\n",
       "      <th>249997</th>\n",
       "      <td>999997</td>\n",
       "      <td>72.678871</td>\n",
       "    </tr>\n",
       "    <tr>\n",
       "      <th>249998</th>\n",
       "      <td>999998</td>\n",
       "      <td>169.230057</td>\n",
       "    </tr>\n",
       "    <tr>\n",
       "      <th>249999</th>\n",
       "      <td>999999</td>\n",
       "      <td>76.730789</td>\n",
       "    </tr>\n",
       "  </tbody>\n",
       "</table>\n",
       "<p>250000 rows × 2 columns</p>\n",
       "</div>"
      ],
      "text/plain": [
       "            id    Calories\n",
       "0       750000   28.113632\n",
       "1       750001  107.521530\n",
       "2       750002   87.097160\n",
       "3       750003  126.426750\n",
       "4       750004   75.703194\n",
       "...        ...         ...\n",
       "249995  999995   25.969122\n",
       "249996  999996    9.564373\n",
       "249997  999997   72.678871\n",
       "249998  999998  169.230057\n",
       "249999  999999   76.730789\n",
       "\n",
       "[250000 rows x 2 columns]"
      ]
     },
     "execution_count": 65,
     "metadata": {},
     "output_type": "execute_result"
    }
   ],
   "source": [
    "# --- FOR SINGLE MODELS ---\n",
    "\n",
    "submission = pd.DataFrame({\n",
    "    \"id\": eval_data.index,\n",
    "    \"Calories\": model_pipeline.predict(eval_data)\n",
    "})\n",
    "submission"
   ]
  },
  {
   "cell_type": "code",
   "execution_count": 34,
   "id": "9a663a74-c2b9-4f65-8bf7-e42239e8d057",
   "metadata": {
    "execution": {
     "iopub.execute_input": "2025-05-14T09:01:29.960009Z",
     "iopub.status.busy": "2025-05-14T09:01:29.959678Z",
     "iopub.status.idle": "2025-05-14T09:01:30.202485Z",
     "shell.execute_reply": "2025-05-14T09:01:30.201962Z",
     "shell.execute_reply.started": "2025-05-14T09:01:29.959997Z"
    }
   },
   "outputs": [
    {
     "data": {
      "text/html": [
       "<div>\n",
       "<style scoped>\n",
       "    .dataframe tbody tr th:only-of-type {\n",
       "        vertical-align: middle;\n",
       "    }\n",
       "\n",
       "    .dataframe tbody tr th {\n",
       "        vertical-align: top;\n",
       "    }\n",
       "\n",
       "    .dataframe thead th {\n",
       "        text-align: right;\n",
       "    }\n",
       "</style>\n",
       "<table border=\"1\" class=\"dataframe\">\n",
       "  <thead>\n",
       "    <tr style=\"text-align: right;\">\n",
       "      <th></th>\n",
       "      <th>id</th>\n",
       "      <th>Calories</th>\n",
       "    </tr>\n",
       "  </thead>\n",
       "  <tbody>\n",
       "    <tr>\n",
       "      <th>0</th>\n",
       "      <td>750000</td>\n",
       "      <td>27.338148</td>\n",
       "    </tr>\n",
       "    <tr>\n",
       "      <th>1</th>\n",
       "      <td>750001</td>\n",
       "      <td>108.317604</td>\n",
       "    </tr>\n",
       "    <tr>\n",
       "      <th>2</th>\n",
       "      <td>750002</td>\n",
       "      <td>86.876556</td>\n",
       "    </tr>\n",
       "    <tr>\n",
       "      <th>3</th>\n",
       "      <td>750003</td>\n",
       "      <td>126.816238</td>\n",
       "    </tr>\n",
       "    <tr>\n",
       "      <th>4</th>\n",
       "      <td>750004</td>\n",
       "      <td>76.310501</td>\n",
       "    </tr>\n",
       "    <tr>\n",
       "      <th>...</th>\n",
       "      <td>...</td>\n",
       "      <td>...</td>\n",
       "    </tr>\n",
       "    <tr>\n",
       "      <th>249995</th>\n",
       "      <td>999995</td>\n",
       "      <td>26.059559</td>\n",
       "    </tr>\n",
       "    <tr>\n",
       "      <th>249996</th>\n",
       "      <td>999996</td>\n",
       "      <td>9.439581</td>\n",
       "    </tr>\n",
       "    <tr>\n",
       "      <th>249997</th>\n",
       "      <td>999997</td>\n",
       "      <td>72.856796</td>\n",
       "    </tr>\n",
       "    <tr>\n",
       "      <th>249998</th>\n",
       "      <td>999998</td>\n",
       "      <td>168.550751</td>\n",
       "    </tr>\n",
       "    <tr>\n",
       "      <th>249999</th>\n",
       "      <td>999999</td>\n",
       "      <td>76.477036</td>\n",
       "    </tr>\n",
       "  </tbody>\n",
       "</table>\n",
       "<p>250000 rows × 2 columns</p>\n",
       "</div>"
      ],
      "text/plain": [
       "            id    Calories\n",
       "0       750000   27.338148\n",
       "1       750001  108.317604\n",
       "2       750002   86.876556\n",
       "3       750003  126.816238\n",
       "4       750004   76.310501\n",
       "...        ...         ...\n",
       "249995  999995   26.059559\n",
       "249996  999996    9.439581\n",
       "249997  999997   72.856796\n",
       "249998  999998  168.550751\n",
       "249999  999999   76.477036\n",
       "\n",
       "[250000 rows x 2 columns]"
      ]
     },
     "execution_count": 34,
     "metadata": {},
     "output_type": "execute_result"
    }
   ],
   "source": [
    "# --- FOR RANDOMIZED SEARCH ---\n",
    "\n",
    "submission = pd.DataFrame({\n",
    "    \"id\": eval_data.index,\n",
    "    \"Calories\": best_model.predict(eval_data)\n",
    "})\n",
    "submission"
   ]
  },
  {
   "cell_type": "code",
   "execution_count": 69,
   "id": "ce9a6075-62c2-400c-9b45-9b8fdc422bc3",
   "metadata": {
    "execution": {
     "iopub.execute_input": "2025-05-14T12:31:22.741671Z",
     "iopub.status.busy": "2025-05-14T12:31:22.741252Z",
     "iopub.status.idle": "2025-05-14T12:31:22.906980Z",
     "shell.execute_reply": "2025-05-14T12:31:22.906694Z",
     "shell.execute_reply.started": "2025-05-14T12:31:22.741651Z"
    }
   },
   "outputs": [
    {
     "name": "stdout",
     "output_type": "stream",
     "text": [
      "Saved to submissions/submission_1___0_05981686736686766.csv\n"
     ]
    }
   ],
   "source": [
    "import os\n",
    "\n",
    "# Find the lowest available index X\n",
    "existing_files = os.listdir(\"submissions\")\n",
    "used_indices = set()\n",
    "\n",
    "for filename in existing_files:\n",
    "    if filename.startswith(\"submission_\") and filename.endswith(\".csv\"):\n",
    "        try:\n",
    "            index = int(filename[len(\"submission_\"):-len(\".csv\")])\n",
    "            used_indices.add(index)\n",
    "        except ValueError:\n",
    "            pass  # skip files with non-integer suffixes\n",
    "\n",
    "# Find the lowest unused index\n",
    "X = 0\n",
    "while X in used_indices:\n",
    "    X += 1\n",
    "\n",
    "# Save the DataFrame\n",
    "file_path = f\"submissions/submission_{X}___{str(test_error).replace(\".\", \"_\")}.csv\"\n",
    "submission.to_csv(file_path, index=False)\n",
    "\n",
    "print(f\"Saved to {file_path}\")"
   ]
  }
 ],
 "metadata": {
  "kernelspec": {
   "display_name": "Python 3 (ipykernel)",
   "language": "python",
   "name": "python3"
  },
  "language_info": {
   "codemirror_mode": {
    "name": "ipython",
    "version": 3
   },
   "file_extension": ".py",
   "mimetype": "text/x-python",
   "name": "python",
   "nbconvert_exporter": "python",
   "pygments_lexer": "ipython3",
   "version": "3.12.2"
  }
 },
 "nbformat": 4,
 "nbformat_minor": 5
}
